{
 "cells": [
  {
   "cell_type": "markdown",
   "metadata": {},
   "source": [
    "# Supervised Learning\n",
    "- Defines a mapping from one or more inputs to one or more outputs\n",
    "- Train: Find parameters that try to describe the relationship between input/output\n",
    "- Learning algorithm: Takes a training set of input/output pairs and changes the parameters to predict their corresponding output as close as possible\n",
    "\n",
    "- Structured data: Predetermined/fixed length and the elements are always ordered in the same way\n",
    "- $y=f[x,\\phi]$\n",
    "- Goal:\n",
    "  - Find $\\phi$ that associates each input closely as possible to the output\n",
    "  - Loss: \n",
    "    - Quantification of the mismatch in the mapping\n",
    "    - Treat as a function $L[\\phi]$ of the parameters\n",
    "    - When we train a model, we seek parameters $\\hat{\\phi}$ that minimizes loss function. $$\\hat{\\phi} = argmin_{\\phi}[L[\\phi]]$$\n",
    "  - After training, must quantify its performance\n",
    "    - Run the model on separated training data to see how well it generalizes to examples that it didnt see"
   ]
  },
  {
   "cell_type": "markdown",
   "metadata": {},
   "source": [
    "## Linear Regression\n",
    "- 1D Linear Regression\n",
    "  - $y=f[x,\\phi]$\n",
    "  - = $\\phi_{0} + \\phi_{1}x$\n",
    "    - $\\phi_{0}$: Intercept\n",
    "    - $\\phi_{1}$: Slope\n",
    "  - Loss:\n",
    "    - Captured by the deviation between the model predictions and true value $y$.\n",
    "    - $L[\\phi] = \\sum_{i}^I (\\phi_{0} + \\phi_{1}x_{i} - y_{i})$\n",
    "  - Training:\n",
    "    - Choose initial parameters randomly and improve them by \"walking down\" the loss function until we reach a minima\n",
    "    - One way is to take the gradient of the surface at the current point and take a step in that direction\n",
    "    - Repeat this process until the gradient is flat and no longer changes\n",
    "  - Testing\n",
    "    - Compute loss on separate data (test data)\n",
    "    - Underfitting\n",
    "      - Model is too simple and cant capture the information\n",
    "    - Overfitting\n",
    "      - Model is too complex and learns on the noise from the data"
   ]
  }
 ],
 "metadata": {
  "language_info": {
   "name": "python"
  }
 },
 "nbformat": 4,
 "nbformat_minor": 2
}
