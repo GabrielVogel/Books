{
 "cells": [
  {
   "cell_type": "markdown",
   "metadata": {},
   "source": [
    "# Moving Beyond Linearity\n",
    "- Linear models\n",
    "  - Easy to fit\n",
    "  - Linearity assumption is always an approximation\n",
    "- Goal: Relax the linear assumption and try to maintain as much interpretability possible\n",
    "- Approaches\n",
    "  - Polynomial Regression\n",
    "  - Step functions\n",
    "  - Regression splines\n",
    "  - Smoothing splines\n",
    "  - Local regression\n",
    "  - GAM (Generalized Additive Models)\n",
    "## Polynomial Regression\n",
    "- Convert $y_i = \\beta_0 + \\beta_1x_i + \\epsilon_i$ with $y_i = \\beta_0 + \\beta_1x_i + \\beta_2x^2_i + ... + \\beta_d x_i^d + \\epsilon_i$\n",
    "- Allows to produce extremely non linear curve\n",
    "- Unusual to $d$ be greater than 3 or 4\n",
    "## Step Functions\n",
    "- Using polynomial features imposes a global structure on the non-linear function of $X$\n",
    "- Step functions\n",
    "    - Break the range of $X$ into bins and fit a different constant to each bin\n",
    "- Create $k$ cutpoints $c_1, c_2, c_3,...,c_k$\n",
    "  - Construct $K+1$ variables $$C_0(X) = I(X < c_1) \\\\ C_1(X) = I (c_1 \\leq  X < c_2) \\\\ . \\\\ . \\\\ . \\\\ C_k(X) = I(c_k \\leq X)$$\n",
    "- For any value of $X$, it must be within one of these intervals and at most one can be non-zero\n",
    "- Unless there are natural breakpoints in the predictors, piecewise constants can miss the action\n",
    "- Very popular in biostatistics and epidemology\n",
    "\n",
    "## Basis Functions\n",
    "$$y_i = \\beta_0 + \\beta_1 b_1(x_i) + \\beta_2 b_2(x_i)$$ \n",
    "- $b_i$ are transformations that can be applied to the predictors\n",
    "- Are fixed and known\n",
    "- Piecewise constants and polynomials are special case of basis functions\n",
    "\n",
    "## Regression Splines\n",
    "### Piecewise polynomials\n",
    "- Involves fitting separate low-degree polynomials over different regions of $X$\n",
    "- Coefficients change in different parts of the ranges of $X$\n",
    "- **Knots**: Parts where the coefficients change\n",
    "$$y_i = \\begin{cases} \n",
    "\\beta_{01} + \\beta_{11}x_i + \\beta_{21}x^2_i + \\beta_{31}x^3_i + \\epsilon_i, & \\text{if } x_i < c \\\\ \\beta_{02} + \\beta_{12}x_i + \\beta_{22}x^2_i + \\beta_{32}x^3_i + \\epsilon_i & \\text{if } x_i \\geq c\n",
    "\\end{cases}\n",
    "$$\n",
    "- Above is a piecewise cubic polynomial with only one knot\n",
    "- More knots leads to a more flexible piecewise polynomial\n",
    "- In general, $K$ knots leads to $K+1$ different cubic polynomials\n",
    "- Can lead to weird fitting curves (not continuous)\n",
    "- **Constraints and splines**\n",
    "  - Add constraint to the fitting curve to be continuous\n",
    "  - Constraints that\n",
    "    - First derivative is continuous $\\rightarrow$ Continuous at a knot\n",
    "    - Second derivative is continuous $\\rightarrow$ Must be smooth\n",
    "  - Each constraint effectively frees up one degree of freedom, by reducing the complexity of the fit\n",
    "- **Spline basis representation**\n",
    "  - Cubic spline with $K$ knots can be represented as $$y_i = \\beta_0 + \\beta_1 b_1(x_i) + \\beta_2 b_2(x_i) + ... + \\beta_{K+3}b_{K+3}(x_i) + \\epsilon_i$$\n",
    "  - Ways to represent a cubic spline\n",
    "    - Start with basis for a cubic polynomial\n",
    "    - Add one truncated power basis function *per knot*\n",
    "    - Truncated power basis $$h(x,\\xi) = (x - \\xi)^3_+ = \\begin{cases} (x - \\xi)^3 & \\text{if } x > \\xi \\\\    0 & \\text{otherwise}  \\end{cases}$$ where $\\xi$ is the knot\n",
    "  - Splines can have high variance at the outer range of the predictors\n",
    "  - **Natural spline** is a regression spline with additional boundary constraints\n",
    "    - Required to be linear at the boundary\n",
    "    - Produce more stable estimates at the boundaries\n",
    "- **Chosing the number of knots**\n",
    "  - In practice, common to place the knots in uniform fashion\n",
    "  - Specify the number of desired degrees of freedom and then have the software place the corresponding number of knots at uniform quantiles of the data\n",
    "  - Use cross-validation and see which produces the best curve\n",
    "    - Fit a spline in the training part\n",
    "    - Use the spline to make predictions on the rest of the data\n",
    "    - Repeat multiple times until each observation has been left out once\n",
    "- Regression splines often give superior results to polynomial regression\n",
    "  - Polynomial must have high degree to be flexible, splines increases number of knots\n",
    "  - Produce more stable estimates\n",
    "\n",
    "## Smoothing Splines\n",
    "- Goal: Minimize RSS $\\sum_{i}^n (y_i - g(x_i))^2$\n",
    "- If we dont put constraints in $g(x)$, can always make $RSS = 0$ by choosing $g$ that interpolates all of the $y_i$\n",
    "- Want: Minimize RSS and $g$ to be smooth\n",
    "- How to ensure $g$ is smooth? $$ \\sum_{i}^n (y_i - g(x_i))^2 + \\lambda \\int g''(t)^2 dt$$ where $\\lambda$ is a non-negative tuning parameter\n",
    "  - $\\sum_{i}^n (y_i - g(x_i))^2$ Encourages $g$ to fit the data well\n",
    "  - $\\lambda \\int g''(t)^2 dt$ Penalty term that penalizes variability in $g$. Measure of the change in $g'(t)$ over its entire range\n",
    "    - Term $g''(t)$ indicates the second derivative of $g$\n",
    "      - $g'(t)$ measures the slope\n",
    "      - $g''(t)$ measures how the slope is changing. Measure its \"roughness\". \n",
    "        - Large in absolute value if its wiggly near $t$ and close to zero otherwise\n",
    "- When $\\lambda = 0$, interpolates data perfectly. When $\\lambda \\rightarrow \\infty$, $g$ will be perfectly smooth (just a straigh line)\n",
    "- $\\lambda$ controls the bias-variance tradeoff\n",
    "- $g(x)$ can be shown to have specific properties\n",
    "  - Piecewise cubic polynomial with knots at unique values\n",
    "  - Continuous first and second derivatives at each knot\n",
    "  - Linear in the region outside the knots\n",
    "  - **g(x) is a natural cubic spline with knots at $x_1, x_2,...,x_n$** shrunked, with $\\lambda$ controlling the level of shrinkage\n",
    "- **Choosing $\\lambda$**\n",
    "  - $\\lambda$ controls the roughness of the spline, and the *effective degrees of freedom*\n",
    "  - As $\\lambda$ increases from $0$ to $\\infty$, the effective degrees of freedom ($df_{\\lambda}$) decreases from $n$ to 2\n",
    "  - Although smoothing spline has $n$ degrees of freedom, these $n$ parameters are heavily constrained\n",
    "  - $df_{\\lambda}$ is a measure of the flexibility of the spline (the higher, the more flexible)\n",
    "  - **Effective degrees of freedom**\n",
    "    - Written as $\\hat{g}_\\lambda = S_{\\lambda}y$, where\n",
    "      - $\\hat{g}_\\lambda$ is a solution to a particular choice of $\\lambda$ ($n$-vector containing the fitted values of the smoothing spline at the training points)\n",
    "      - $df_{\\lambda} = \\sum_i^n\\{S_{\\lambda}\\}_{ii}$\n",
    "  - In fitting a smoothing spline, we do not need to select the number of knots(knot at each training observation)\n",
    "  - LOO-CV(Leave One Out Cross Validation) can be computed very effectively for smoothing splines $$RSS_{cv}(\\lambda) = \\sum_{i}^n (y_i - \\hat{g}_\\lambda^{(-i)}(x_i))^2 = \n",
    "\\sum_{i}^n \\left[  \\frac{y_i - \\hat{g}_{\\lambda}(x_i) }{1 - \\{S_{\\lambda}\\}_{ii}}      \\right] $$\n",
    "    - $\\hat{g}_\\lambda^{(-i)}$: Indicates the fitted value evaluated at $x_{i}$ where the fit uses all observation values except for $x_i$\n",
    "  - If two models have similar performance, choose the one with less degrees of freedom (simpler)\n",
    "## Local Regression\n",
    "- Computing a fit at a target point $x_0$ using only nearby observations\n",
    "- Memory-based procedure (like nearest neighbors)\n",
    "- Algorithm for Local Regression\n",
    "  - Gather the fraction $s=k/n$ of training points who are closest to $x_0$\n",
    "  - Assign a weight $K_{i0} = K(x_i,x_0)$ to each point in its neighborhood such that\n",
    "    - Point furthest has weight zero\n",
    "    - Closest has the highest weight\n",
    "    - All but these $k$ get weight 0\n",
    "  - Fit a *weighted least square regression* of the $y_i$ on $x_i$ using the weights $$\\sum_{i}^n K_{i0}(y_i - \\beta_0 + \\beta_1x_i)^2$$\n",
    "  - Fitted value at $x_0$ is given by $\\hat{f}(x_0) = \\hat{\\beta_0} + \\hat{\\beta_1}x_0$\n",
    "\n",
    "## Generalized Additive Models\n",
    "- General framework for extending linear models by allowing non-linear functions of each of the variables, while maintaining additivity\n",
    "- Natural way to extend $y_i = \\beta_0 + \\beta_1x_{i1} + \\beta_2x_{i2} + ... + \\beta_p x_{ip} + \\epsilon$ is to replace each linear component with a smooth non-linear function $f_j(x_ij)$\n",
    "- Using most of the methods is simple, fit one for each variable\n",
    "- **GAMs with Smoothing Splines**\n",
    "  - Backfitting\n",
    "    - Fits a model with multiple predictors by repeatedly updating the fit for each predictor in turn, holding the others fixed\n",
    "    - Apply fitting method for that variable to a partial fitting\n",
    "    - Partial residual for $X_3$ is $r_i = y_i - f_1(x_{i1}) - f_2(x_{i2})$\n",
    "    - Differences between GAMs using natural splines vs smoothing splines are rather small\n",
    "- **Pros**\n",
    "  - Fit a non-linear function on each $X_j$ automatically\n",
    "  - Can make more accurate predictions\n",
    "  - Because it's additive, we can examine the effect of each $X_j$ on $Y$ while keeping other variables fixed\n",
    "  - Smoothness of $f_j$ can be summarized through degrees of freedom\n",
    "- **Limitation**\n",
    "  - Main limitation is that they are additive"
   ]
  },
  {
   "cell_type": "markdown",
   "metadata": {
    "vscode": {
     "languageId": "plaintext"
    }
   },
   "source": [
    "# Code"
   ]
  },
  {
   "cell_type": "markdown",
   "metadata": {},
   "source": [
    "## Exercise 1"
   ]
  },
  {
   "cell_type": "code",
   "execution_count": 22,
   "metadata": {},
   "outputs": [
    {
     "name": "stdout",
     "output_type": "stream",
     "text": [
      "1.102986971881275 2.371330747789837\n",
      "1.2137371102326011 2.3071706252955506\n"
     ]
    }
   ],
   "source": [
    "import numpy as np\n",
    "from sklearn.linear_model import LinearRegression\n",
    "#a)\n",
    "X = np.random.normal(0,1,size=(100,2))\n",
    "Y = 1.4*X[:,0] + 1.2*X[:,1] + np.random.normal(0,1,size=100) + 2.3\n",
    "#b)\n",
    "def simple_reg(outcome,feature):\n",
    "    \"\"\"\n",
    "    Outcome: Array with dim (N)\n",
    "    Feature: Array with dim (N)\n",
    "    \"\"\"\n",
    "    clf = LinearRegression()\n",
    "    clf.fit(feature.reshape(-1,1),outcome)\n",
    "    return clf.coef_[0],clf.intercept_\n",
    "#c)\n",
    "beta_1 = 2\n",
    "outcome_1 = Y - beta_1*X[:,0]\n",
    "#d)\n",
    "beta_2,beta_0 = simple_reg(outcome_1,X[:,1])\n",
    "print(beta_2,beta_0)\n",
    "#e)\n",
    "outcome_2 = Y - beta_2*X[:,1]\n",
    "beta_1, beta_0= simple_reg(outcome_2,X[:,0])\n",
    "print(beta_1,beta_0)\n",
    "\n",
    "#f)\n",
    "betas_0 = []\n",
    "betas_2 = []\n",
    "beta_1 = 5.\n",
    "betas_1 = [beta_1]\n",
    "for _ in range(1000):\n",
    "    outcome = Y - beta_1*X[:,0]\n",
    "    beta_2,beta_0 = simple_reg(outcome,X[:,1])\n",
    "    outcome = Y - beta_2*X[:,1]\n",
    "    beta_1,beta_0 = simple_reg(outcome,X[:,0])\n",
    "    \n",
    "    betas_0.append(beta_0)\n",
    "    betas_1.append(beta_1)\n",
    "    betas_2.append(beta_2)        "
   ]
  },
  {
   "cell_type": "code",
   "execution_count": 23,
   "metadata": {},
   "outputs": [],
   "source": [
    "import matplotlib.pyplot as plt\n",
    "import seaborn as sns\n",
    "sns.set_style(\"whitegrid\")"
   ]
  },
  {
   "cell_type": "code",
   "execution_count": 32,
   "metadata": {},
   "outputs": [],
   "source": [
    "clf = LinearRegression()\n",
    "clf.fit(X,Y)\n",
    "(beta_1,beta_2), beta_0 =  clf.coef_,clf.intercept_"
   ]
  },
  {
   "cell_type": "code",
   "execution_count": 48,
   "metadata": {},
   "outputs": [
    {
     "data": {
      "image/png": "[encoded data removed]",
      "text/plain": [
       "<Figure size 1500x1000 with 3 Axes>"
      ]
     },
     "metadata": {},
     "output_type": "display_data"
    }
   ],
   "source": [
    "fig,axes = plt.subplots(figsize=(15,10),nrows=1,ncols=3)\n",
    "sns.lineplot(x=np.arange(0,len(betas_2),1),y=betas_2,ax=axes[0])\n",
    "sns.lineplot(x=np.arange(0,len(betas_1),1),y=betas_1,ax=axes[1])\n",
    "sns.lineplot(x=np.arange(0,len(betas_0),1),y=betas_0,ax=axes[2])\n",
    "\n",
    "axes[0].set_title('Beta 2')\n",
    "axes[0].axhline(beta_2,0,1000,color='r',linestyle='--')\n",
    "\n",
    "axes[1].set_title(\"Beta 1\")\n",
    "axes[1].axhline(beta_1,0,1000,color='r',linestyle='--')\n",
    "\n",
    "axes[2].set_title(\"Beta 0\")\n",
    "axes[2].axhline(beta_0,0,1000,color='r',linestyle='--')\n",
    "\n",
    "plt.tight_layout()"
   ]
  },
  {
   "cell_type": "markdown",
   "metadata": {},
   "source": [
    "## Exercise 2"
   ]
  },
  {
   "cell_type": "code",
   "execution_count": 211,
   "metadata": {},
   "outputs": [],
   "source": [
    "p = 100\n",
    "n = 1000\n",
    "X = np.random.normal(0,1,size=(n,p))\n",
    "true_params = np.random.normal(loc=0,scale=1,size=p)\n",
    "true_bias = np.random.randn()\n",
    "y = np.dot(X,true_params) + np.random.normal(size=n)"
   ]
  },
  {
   "cell_type": "code",
   "execution_count": 212,
   "metadata": {},
   "outputs": [
    {
     "data": {
      "text/plain": [
       "array([-0.61004409, -0.51155448, -1.4677546 ,  1.31860262,  0.44618002,\n",
       "       -0.14363737,  0.443081  ,  0.96437983, -1.08128966, -0.43752315,\n",
       "       -0.63094115, -1.12103986,  0.34970443, -1.30701679,  1.30663691,\n",
       "       -0.65194265, -1.72308937, -0.8592757 , -0.27130851, -0.48841789,\n",
       "        0.46693116, -0.97029767, -0.03197092,  0.6962312 , -0.67714568,\n",
       "        0.5541206 ,  0.26306432, -1.2356686 ,  1.15809695, -0.24257745,\n",
       "        0.25013751, -1.53588518,  1.72015049,  0.50948408,  2.13611301,\n",
       "        0.06943865, -0.80799809,  0.80930451,  0.17179721,  1.06382694,\n",
       "       -1.15301631,  0.28669503, -1.06841846, -2.27780871, -0.62387356,\n",
       "        0.55734273,  1.57556959, -1.71815092, -0.22287373, -0.284938  ,\n",
       "       -1.04810637,  0.10626069,  0.48746286,  1.31864648, -3.00740592,\n",
       "        1.3115479 ,  0.43050596, -2.06430144, -0.20369212,  1.26390153,\n",
       "        0.41701071,  0.36883269,  0.60183361,  1.39121821,  1.17270557,\n",
       "       -0.4109835 , -0.12233208,  0.29408003,  0.00757239,  2.19031356,\n",
       "       -0.98985852,  0.50149324, -1.67957966,  0.93897163,  0.60442408,\n",
       "        1.54744306,  0.85853494,  0.07785171, -0.48035924, -0.17141929,\n",
       "        0.50365584, -0.7243432 ,  0.75744605,  1.72285947,  0.03028448,\n",
       "       -1.42912809,  1.12395322, -1.9501263 , -0.18359967,  1.29431952,\n",
       "        1.67143076,  0.78668894, -1.07286426,  0.26769568, -0.15028333,\n",
       "       -0.28740148, -0.09036061,  1.6990631 , -0.56687566,  0.58379344])"
      ]
     },
     "execution_count": 212,
     "metadata": {},
     "output_type": "execute_result"
    }
   ],
   "source": [
    "true_params"
   ]
  },
  {
   "cell_type": "code",
   "execution_count": 213,
   "metadata": {},
   "outputs": [
    {
     "data": {
      "text/plain": [
       "array([-0.63436016, -0.54160592, -1.47721496,  1.33879851,  0.45937812,\n",
       "       -0.2206051 ,  0.4128477 ,  1.03443565, -1.05374507, -0.40088441,\n",
       "       -0.65866174, -1.19037686,  0.35077923, -1.36582573,  1.35213748,\n",
       "       -0.68789793, -1.68113094, -0.82653356, -0.28858327, -0.45600964,\n",
       "        0.45442604, -0.93006611, -0.02345648,  0.67643025, -0.68526602,\n",
       "        0.52660243,  0.27434551, -1.19756742,  1.16442192, -0.30736645,\n",
       "        0.26467218, -1.56767837,  1.67158398,  0.47375908,  2.13610034,\n",
       "        0.08945172, -0.78199203,  0.77411939,  0.13499149,  1.03938966,\n",
       "       -1.21669535,  0.35489926, -1.09847533, -2.25006631, -0.54823488,\n",
       "        0.59696018,  1.55824737, -1.71997908, -0.17635061, -0.23696489,\n",
       "       -1.06309982,  0.1075633 ,  0.5271168 ,  1.25420007, -3.03610724,\n",
       "        1.32883176,  0.43431354, -2.06395391, -0.22431258,  1.258919  ,\n",
       "        0.41157675,  0.35140766,  0.55031364,  1.45227106,  1.18038267,\n",
       "       -0.35401846, -0.12612072,  0.29979817,  0.01172454,  2.18129105,\n",
       "       -0.98040491,  0.50190986, -1.67090207,  0.94087339,  0.64521474,\n",
       "        1.53649983,  0.86799564,  0.06619053, -0.49902755, -0.20016933,\n",
       "        0.4544083 , -0.78356651,  0.75004137,  1.78486812,  0.02451195,\n",
       "       -1.43260026,  1.16424755, -1.98560542, -0.1453848 ,  1.28696459,\n",
       "        1.69579709,  0.77563118, -1.04873542,  0.25807006, -0.10574173,\n",
       "       -0.31348485, -0.12948905,  1.73166465, -0.55943416,  0.54530018])"
      ]
     },
     "execution_count": 213,
     "metadata": {},
     "output_type": "execute_result"
    }
   ],
   "source": [
    "clf = LinearRegression(fit_intercept=False)\n",
    "clf.fit(X,y)\n",
    "clf.coef_"
   ]
  },
  {
   "cell_type": "code",
   "execution_count": 227,
   "metadata": {},
   "outputs": [],
   "source": [
    "betas = np.zeros(p)\n",
    "beta_0s = []\n",
    "for m in range(100):\n",
    "    for j in range(p):\n",
    "        X_train = X[:,j] # Train on xj considering all other functions expect xj\n",
    "        X_ = np.delete(X,j,1)\n",
    "        betas_ = np.delete(betas,j)\n",
    "        Y_train = y - np.dot(X_,betas_)\n",
    "        clf = LinearRegression(fit_intercept=False)\n",
    "        clf.fit(X_train.reshape(-1,1),Y_train)\n",
    "        betas[j] = clf.coef_[0]\n",
    "        if j == 0:\n",
    "            beta_0s.append(betas[j])"
   ]
  },
  {
   "cell_type": "code",
   "execution_count": 228,
   "metadata": {},
   "outputs": [
    {
     "data": {
      "text/plain": [
       "<matplotlib.lines.Line2D at 0x2e6ba0338b0>"
      ]
     },
     "execution_count": 228,
     "metadata": {},
     "output_type": "execute_result"
    },
    {
     "data": {
      "image/png": "[encoded data removed]",
      "text/plain": [
       "<Figure size 1500x1000 with 1 Axes>"
      ]
     },
     "metadata": {},
     "output_type": "display_data"
    }
   ],
   "source": [
    "fig,ax = plt.subplots(figsize=(15,10))\n",
    "sns.lineplot(x=np.arange(1,len(beta_0s)+1,1),y=beta_0s,ax=ax)\n",
    "ax.axhline(true_params[0],0,color='red')"
   ]
  }
 ],
 "metadata": {
  "kernelspec": {
   "display_name": "fut_libraries",
   "language": "python",
   "name": "python3"
  },
  "language_info": {
   "codemirror_mode": {
    "name": "ipython",
    "version": 3
   },
   "file_extension": ".py",
   "mimetype": "text/x-python",
   "name": "python",
   "nbconvert_exporter": "python",
   "pygments_lexer": "ipython3",
   "version": "3.9.0"
  }
 },
 "nbformat": 4,
 "nbformat_minor": 2
}
