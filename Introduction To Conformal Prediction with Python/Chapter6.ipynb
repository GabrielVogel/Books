{
 "cells": [
  {
   "cell_type": "markdown",
   "metadata": {},
   "source": [
    "# Intuition behind Conformal Prediction\n",
    "\n",
    "- Exchangeability\n",
    "  - The calibration data must be “exchangeable” with the new data we expect. For example, if they are randomly drawn\n",
    "from the same distribution, they are exchangeable\n",
    "- Conformal prediction controls the coverage of positive labels\n",
    "- Goal is also not to include many incorrect classes\n",
    "\n",
    "- Conformal prediction as a recipe\n",
    "  - Training\n",
    "    - Normal procedure\n",
    "    - Split data into train and calibration\n",
    "    - Train model on train data\n",
    "  - Calibration\n",
    "    - Compute uncertainty scores for calibration data\n",
    "    - Sort from certain to uncertain (low to high)\n",
    "    - Decide confidence level ($\\alpha = 0.05$ -> 95%)\n",
    "    - Find the quantile where $1 - \\alpha$ (multiplied by finite sample correction) of non-conformity scores are smaller\n",
    "  - Prediction\n",
    "    - Compute the non conformity score for the new data\n",
    "    - Pick all y's that produce a score below $\\hat{q}$\n",
    "    - Theses y's form you prediction set or interval\n",
    "\n",
    "\n",
    "## Out of sample evaluation\n",
    "  - can be used\n",
    "    - Bootstrap\n",
    "    - leave-one-out\n",
    "    - k-fold cross-spliting\n",
    "  - To tune machine learning models, you also have to work with data that wasnt used for model training\n",
    "  - Cross-conformal prediction\n",
    "    - Split into 10 pieces\n",
    "    - Take first 9, train, and compute non-conformity score on the remaining\n",
    "    - Repeat this step 9 times so that each piece is once in calibration set\n",
    "    -  cv parameter in MAPIE clasifier sets to cross-validation\n",
    "\n",
    "## Interpreting Prediction Regions\n",
    "  - Classification -> Predictions sets\n",
    "  - Regression -> Prediction intervals\n",
    "  - Guarantee is marginal -> On average for samples in the calibration/new data\n",
    "  \n",
    "## Conformal prediction and Supervised Learning\n",
    "  - Supervised learning mindset to uncertainty quantification"
   ]
  }
 ],
 "metadata": {
  "language_info": {
   "name": "python"
  }
 },
 "nbformat": 4,
 "nbformat_minor": 2
}
