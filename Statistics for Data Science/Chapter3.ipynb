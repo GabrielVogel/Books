{
 "cells": [
  {
   "cell_type": "code",
   "execution_count": 43,
   "metadata": {},
   "outputs": [],
   "source": [
    "import seaborn as sns\n",
    "import pandas as pd\n",
    "import matplotlib.pyplot as plt\n",
    "import numpy as np\n",
    "from scipy.stats import trim_mean\n",
    "import random\n",
    "sns.set_style(\"whitegrid\")"
   ]
  },
  {
   "cell_type": "code",
   "execution_count": 11,
   "metadata": {},
   "outputs": [],
   "source": [
    "df = pd.read_csv(\"files/data.csv\")\n",
    "not_important = ['id','uri','track_href','analysis_url','duration_ms','type']\n",
    "dfc = df.drop(columns=not_important)"
   ]
  },
  {
   "cell_type": "code",
   "execution_count": 1,
   "metadata": {},
   "outputs": [],
   "source": [
    "# Statistical inference pipeline\n",
    "# Formulate hypothesis -> Design experiment -> Collect data -> Inference/Conclusion"
   ]
  },
  {
   "cell_type": "code",
   "execution_count": 3,
   "metadata": {},
   "outputs": [],
   "source": [
    "# A/B testing\n",
    "# Subjects assigned to a group or other.Subjects are randomized assigned to each group, so the difference between two groups is because\n",
    "# - Effect of treatment\n",
    "# - \"Luck\" in draw\n",
    "# Without control group, there is no certain that all others things remained the same."
   ]
  },
  {
   "cell_type": "code",
   "execution_count": 4,
   "metadata": {},
   "outputs": [],
   "source": [
    "# Hypothesis test\n",
    "# Null hypothesis -> Treatment era equivalent -> Prove it wrong and show that difference is not due to chance\n",
    "# Alternate hypothesis -> Thing we want evideence for\n",
    "# Resampling permutation -> \n",
    "# Shuffle together A and B groups,and repeatedly deal out the data in groups of similar sizes, and observe how many times the difference is as extreme as the observed difference"
   ]
  },
  {
   "cell_type": "code",
   "execution_count": 5,
   "metadata": {},
   "outputs": [],
   "source": [
    "# One Way/ Two way\n",
    "# Bidirectional -> Two way -> Different\n",
    "# Unidirectional -> One way -> Smaller or greater\n"
   ]
  },
  {
   "cell_type": "code",
   "execution_count": 6,
   "metadata": {},
   "outputs": [],
   "source": [
    "# Resampling \n",
    "# Bootstrap -> Variability in a estimate\n",
    "# Permutation test -> Test hypothesis, involving two or more groups"
   ]
  },
  {
   "cell_type": "code",
   "execution_count": 44,
   "metadata": {},
   "outputs": [],
   "source": [
    "# Permutation test\n",
    "# 1.Combine results from different groups in a dataset\n",
    "# 2.Shuffle the combined data and randomly draw(without replacement) a resample of the same size as group A \n",
    "# 3. From the remaining data, draw a resample of size B\n",
    "# 4. Calculate the statistic for the original samples (ex. difference in means), calculate if for the resamples and record\n",
    "# 5. Repeat it R times\n",
    "# 6. Get the observed difference between groups and compare it to the set of permutaed differences\n",
    "# If the observed difference lies well within the set of permutation differences, the observed difference is within the range that we might produce.\n",
    "# Else, if the observed difference lies outside most of the permutation distribution, we conclude that this is not by chance. Its statistically significant"
   ]
  },
  {
   "cell_type": "code",
   "execution_count": 45,
   "metadata": {},
   "outputs": [],
   "source": [
    "garage_energy = dfc[dfc['genre']=='garage']['energy']\n",
    "chill_energy = dfc[dfc['genre']=='chill']['energy']"
   ]
  },
  {
   "cell_type": "code",
   "execution_count": 46,
   "metadata": {},
   "outputs": [
    {
     "data": {
      "image/png": "[encoded data removed]",
      "text/plain": [
       "<Figure size 640x480 with 1 Axes>"
      ]
     },
     "metadata": {},
     "output_type": "display_data"
    }
   ],
   "source": [
    "df_test = dfc[dfc['genre'].isin(['garage','chill'])]\n",
    "_ = sns.boxplot(x='genre',y='energy',data=df_test)"
   ]
  },
  {
   "cell_type": "code",
   "execution_count": 17,
   "metadata": {},
   "outputs": [
    {
     "name": "stdout",
     "output_type": "stream",
     "text": [
      "Observed diff : 0.1885251000000001\n"
     ]
    }
   ],
   "source": [
    "observed_difference = garage_energy.mean() - chill_energy.mean()\n",
    "print(f\"Observed diff : {observed_difference}\")"
   ]
  },
  {
   "cell_type": "code",
   "execution_count": 30,
   "metadata": {},
   "outputs": [],
   "source": [
    "ngarage,nchill = len(garage_energy), len(chill_energy)\n",
    "combined = pd.concat([garage_energy,chill_energy],ignore_index=True)"
   ]
  },
  {
   "cell_type": "code",
   "execution_count": 40,
   "metadata": {},
   "outputs": [],
   "source": [
    "def permutation_test(x,na,nb):\n",
    "    n = na + nb\n",
    "    idx_B = set(random.sample(range(n),nb))\n",
    "    idx_A = set(range(n)) - idx_B\n",
    "    return x.loc[list(idx_A)].mean() -  x.loc[list(idx_B)].mean()"
   ]
  },
  {
   "cell_type": "code",
   "execution_count": 41,
   "metadata": {},
   "outputs": [],
   "source": [
    "perm_diffs = [permutation_test(combined, ngarage, nchill) for _ in range(1000)]"
   ]
  },
  {
   "cell_type": "code",
   "execution_count": 51,
   "metadata": {},
   "outputs": [
    {
     "data": {
      "text/plain": [
       "Text(0.15, 180, 'Observed\\ndifference')"
      ]
     },
     "execution_count": 51,
     "metadata": {},
     "output_type": "execute_result"
    },
    {
     "data": {
      "image/png": "[encoded data removed]",
      "text/plain": [
       "<Figure size 500x500 with 1 Axes>"
      ]
     },
     "metadata": {},
     "output_type": "display_data"
    }
   ],
   "source": [
    "fig, ax = plt.subplots(figsize=(5, 5))\n",
    "ax.hist(perm_diffs, bins=11, rwidth=0.9)\n",
    "ax.axvline(x = observed_difference, color='black', lw=2)\n",
    "ax.text(0.15, 180, 'Observed\\ndifference')"
   ]
  },
  {
   "cell_type": "code",
   "execution_count": 47,
   "metadata": {},
   "outputs": [
    {
     "data": {
      "text/plain": [
       "1.0"
      ]
     },
     "execution_count": 47,
     "metadata": {},
     "output_type": "execute_result"
    }
   ],
   "source": [
    "(observed_difference > perm_diffs).mean()"
   ]
  },
  {
   "cell_type": "code",
   "execution_count": null,
   "metadata": {},
   "outputs": [],
   "source": [
    "## Boostrap test \n",
    "# Like permutation test, but is done with replacement."
   ]
  },
  {
   "cell_type": "code",
   "execution_count": 52,
   "metadata": {},
   "outputs": [],
   "source": [
    "# Statistical tests\n",
    "\n",
    "#  We can estimate a pvalue from our permutation test by taking the proportion of times that the permutation test produces a difference equal to or greater than the observed difference\n",
    "# pvalue - >The probability that, given a chance model, results as extreme as the observed results could occur.\n",
    "\n",
    "# Type 1 error -> Mistankenly conclude an effect is real\n",
    "# Type 2 error -> Mistankely conclude an effect is not real"
   ]
  },
  {
   "cell_type": "code",
   "execution_count": 53,
   "metadata": {},
   "outputs": [],
   "source": [
    "# Degrees of freedom\n",
    "# Number of values free to vary\n",
    "# n-1, n sample size (If you know the mean from 10 values,is 9, because  the 10th can be calculated)"
   ]
  },
  {
   "cell_type": "code",
   "execution_count": 55,
   "metadata": {},
   "outputs": [],
   "source": [
    "# ANOVA\n",
    "# Comparison of multiple groups\n",
    "# Combine all data in a single box\n",
    "# Shuffle and draw out n_groups resamples of size ni for each group i\n",
    "# Record the mean for each group\n",
    "# Record the variance among the four group means\n",
    "# Repeat for R steps"
   ]
  },
  {
   "cell_type": "code",
   "execution_count": 64,
   "metadata": {},
   "outputs": [],
   "source": [
    "ANOVA = df[['genre','energy']]"
   ]
  },
  {
   "cell_type": "code",
   "execution_count": 65,
   "metadata": {},
   "outputs": [
    {
     "name": "stdout",
     "output_type": "stream",
     "text": [
      "Observed means genre\n",
      "chill        0.519152\n",
      "garage       0.707677\n",
      "hard-rock    0.767888\n",
      "indie-pop    0.565869\n",
      "pop          0.626116\n",
      "Name: energy, dtype: float64\n",
      "Variance: 0.010298152775733\n"
     ]
    }
   ],
   "source": [
    "observed_variance = ANOVA.groupby(\"genre\")['energy'].mean().var()\n",
    "print(f\"Observed means {ANOVA.groupby('genre')['energy'].mean()}\")\n",
    "print('Variance:', observed_variance)\n",
    "\n",
    "def anova(df,c='energy'):\n",
    "    df_ = df.copy()\n",
    "    df_[c] = np.random.permutation(df_[c])\n",
    "    return df_.groupby(\"genre\").mean().var()"
   ]
  },
  {
   "cell_type": "code",
   "execution_count": 67,
   "metadata": {},
   "outputs": [
    {
     "name": "stdout",
     "output_type": "stream",
     "text": [
      "Pr(Prob) 0.0\n"
     ]
    }
   ],
   "source": [
    "perm_variance = [anova(ANOVA) for _ in range(1000)]\n",
    "print('Pr(Prob)', np.mean([var > observed_variance for var in perm_variance]))"
   ]
  },
  {
   "cell_type": "code",
   "execution_count": 71,
   "metadata": {},
   "outputs": [
    {
     "data": {
      "text/html": [
       "<div>\n",
       "<style scoped>\n",
       "    .dataframe tbody tr th:only-of-type {\n",
       "        vertical-align: middle;\n",
       "    }\n",
       "\n",
       "    .dataframe tbody tr th {\n",
       "        vertical-align: top;\n",
       "    }\n",
       "\n",
       "    .dataframe thead th {\n",
       "        text-align: right;\n",
       "    }\n",
       "</style>\n",
       "<table border=\"1\" class=\"dataframe\">\n",
       "  <thead>\n",
       "    <tr style=\"text-align: right;\">\n",
       "      <th></th>\n",
       "      <th>A</th>\n",
       "      <th>B</th>\n",
       "      <th>C</th>\n",
       "    </tr>\n",
       "  </thead>\n",
       "  <tbody>\n",
       "    <tr>\n",
       "      <th>Click</th>\n",
       "      <td>14</td>\n",
       "      <td>8</td>\n",
       "      <td>12</td>\n",
       "    </tr>\n",
       "    <tr>\n",
       "      <th>No Click</th>\n",
       "      <td>986</td>\n",
       "      <td>992</td>\n",
       "      <td>988</td>\n",
       "    </tr>\n",
       "  </tbody>\n",
       "</table>\n",
       "</div>"
      ],
      "text/plain": [
       "            A    B    C\n",
       "Click      14    8   12\n",
       "No Click  986  992  988"
      ]
     },
     "execution_count": 71,
     "metadata": {},
     "output_type": "execute_result"
    }
   ],
   "source": [
    "# Chi-square\n",
    "# Used with count data to check how well it fits to a expected distribution\n",
    "df_cs = pd.DataFrame(data=[[14,8,12],[986,992,988]],columns=['A','B','C'],index=['Click','No Click'])\n",
    "df_cs"
   ]
  },
  {
   "cell_type": "code",
   "execution_count": 73,
   "metadata": {},
   "outputs": [],
   "source": [
    "box = [1] * df_cs.loc['Click'].sum()\n",
    "box.extend([0] * df_cs.loc['No Click'].sum())\n",
    "\n",
    "def chi_square(observed,expected):\n",
    "    \n",
    "    pearson_residuals = []\n",
    "    for row,expect in zip(observed,expected):\n",
    "        pearson_residuals.append([(observe - expect)**2/expect for observe in row])\n",
    "    return np.sum(pearson_residuals)"
   ]
  },
  {
   "cell_type": "code",
   "execution_count": 78,
   "metadata": {},
   "outputs": [],
   "source": [
    "expected_clicks = df_cs.loc['Click'].sum() / 3\n",
    "expected_noclicks = 1000 - expected_clicks  \n",
    "expected = [expected_clicks, expected_noclicks]\n",
    "chi2observed = chi_square(df_cs.values, expected)"
   ]
  },
  {
   "cell_type": "code",
   "execution_count": 80,
   "metadata": {},
   "outputs": [
    {
     "name": "stdout",
     "output_type": "stream",
     "text": [
      "Observed chi2: 1.6659\n",
      "Resampled p-value: 0.4595\n"
     ]
    }
   ],
   "source": [
    "def perm_fun(box):\n",
    "    random.shuffle(box)\n",
    "    sample_clicks = [sum(box[0:1000]),\n",
    "                     sum(box[1000:2000]),\n",
    "                     sum(box[2000:3000])]\n",
    "    sample_noclicks = [1000 - n for n in sample_clicks]\n",
    "    return chi_square([sample_clicks, sample_noclicks], expected)\n",
    "\n",
    "perm_chi2 = [perm_fun(box) for _ in range(2000)]\n",
    "\n",
    "resampled_p_value = sum(perm_chi2 > chi2observed) / len(perm_chi2)\n",
    "print(f'Observed chi2: {chi2observed:.4f}')\n",
    "print(f'Resampled p-value: {resampled_p_value:.4f}')"
   ]
  }
 ],
 "metadata": {
  "kernelspec": {
   "display_name": "spotify_app_env",
   "language": "python",
   "name": "python3"
  },
  "language_info": {
   "codemirror_mode": {
    "name": "ipython",
    "version": 3
   },
   "file_extension": ".py",
   "mimetype": "text/x-python",
   "name": "python",
   "nbconvert_exporter": "python",
   "pygments_lexer": "ipython3",
   "version": "3.10.0"
  }
 },
 "nbformat": 4,
 "nbformat_minor": 2
}
